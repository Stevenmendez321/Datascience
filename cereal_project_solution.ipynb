{
 "cells": [
  {
   "cell_type": "markdown",
   "metadata": {},
   "source": [
    "# Mock Exam \"Cereal Projet \""
   ]
  },
  {
   "cell_type": "code",
   "execution_count": 2,
   "metadata": {},
   "outputs": [],
   "source": [
    "# Import librairies ....\n",
    "import pandas as pd\n",
    "import numpy as np\n",
    "import matplotlib.pyplot as plt"
   ]
  },
  {
   "cell_type": "code",
   "execution_count": 3,
   "metadata": {},
   "outputs": [
    {
     "data": {
      "text/html": [
       "<div>\n",
       "<style scoped>\n",
       "    .dataframe tbody tr th:only-of-type {\n",
       "        vertical-align: middle;\n",
       "    }\n",
       "\n",
       "    .dataframe tbody tr th {\n",
       "        vertical-align: top;\n",
       "    }\n",
       "\n",
       "    .dataframe thead th {\n",
       "        text-align: right;\n",
       "    }\n",
       "</style>\n",
       "<table border=\"1\" class=\"dataframe\">\n",
       "  <thead>\n",
       "    <tr style=\"text-align: right;\">\n",
       "      <th></th>\n",
       "      <th>name</th>\n",
       "      <th>mfr</th>\n",
       "      <th>type</th>\n",
       "      <th>calories</th>\n",
       "      <th>protein</th>\n",
       "      <th>fat</th>\n",
       "      <th>sodium</th>\n",
       "      <th>fiber</th>\n",
       "      <th>carbo</th>\n",
       "      <th>sugars</th>\n",
       "      <th>potass</th>\n",
       "      <th>vitamins</th>\n",
       "      <th>shelf</th>\n",
       "      <th>weight</th>\n",
       "      <th>cups</th>\n",
       "      <th>rating</th>\n",
       "    </tr>\n",
       "  </thead>\n",
       "  <tbody>\n",
       "    <tr>\n",
       "      <th>0</th>\n",
       "      <td>Corn Chex</td>\n",
       "      <td>R</td>\n",
       "      <td>C</td>\n",
       "      <td>110.0</td>\n",
       "      <td>2.0</td>\n",
       "      <td>0.0</td>\n",
       "      <td>280.0</td>\n",
       "      <td>0.0</td>\n",
       "      <td>22.0</td>\n",
       "      <td>3.0</td>\n",
       "      <td>25.0</td>\n",
       "      <td>25.0</td>\n",
       "      <td>1.0</td>\n",
       "      <td>1.0</td>\n",
       "      <td>1.0</td>\n",
       "      <td>41.445019</td>\n",
       "    </tr>\n",
       "    <tr>\n",
       "      <th>1</th>\n",
       "      <td>Corn Flakes</td>\n",
       "      <td>K</td>\n",
       "      <td>C</td>\n",
       "      <td>100.0</td>\n",
       "      <td>2.0</td>\n",
       "      <td>0.0</td>\n",
       "      <td>290.0</td>\n",
       "      <td>1.0</td>\n",
       "      <td>21.0</td>\n",
       "      <td>2.0</td>\n",
       "      <td>35.0</td>\n",
       "      <td>25.0</td>\n",
       "      <td>1.0</td>\n",
       "      <td>1.0</td>\n",
       "      <td>1.0</td>\n",
       "      <td>45.863324</td>\n",
       "    </tr>\n",
       "    <tr>\n",
       "      <th>2</th>\n",
       "      <td>Rice Krispies</td>\n",
       "      <td>K</td>\n",
       "      <td>C</td>\n",
       "      <td>110.0</td>\n",
       "      <td>2.0</td>\n",
       "      <td>0.0</td>\n",
       "      <td>290.0</td>\n",
       "      <td>0.0</td>\n",
       "      <td>22.0</td>\n",
       "      <td>3.0</td>\n",
       "      <td>35.0</td>\n",
       "      <td>25.0</td>\n",
       "      <td>1.0</td>\n",
       "      <td>1.0</td>\n",
       "      <td>1.0</td>\n",
       "      <td>40.560159</td>\n",
       "    </tr>\n",
       "    <tr>\n",
       "      <th>3</th>\n",
       "      <td>Special K</td>\n",
       "      <td>K</td>\n",
       "      <td>NaN</td>\n",
       "      <td>110.0</td>\n",
       "      <td>6.0</td>\n",
       "      <td>0.0</td>\n",
       "      <td>230.0</td>\n",
       "      <td>1.0</td>\n",
       "      <td>16.0</td>\n",
       "      <td>3.0</td>\n",
       "      <td>55.0</td>\n",
       "      <td>25.0</td>\n",
       "      <td>1.0</td>\n",
       "      <td>1.0</td>\n",
       "      <td>1.0</td>\n",
       "      <td>53.131324</td>\n",
       "    </tr>\n",
       "    <tr>\n",
       "      <th>4</th>\n",
       "      <td>Multi-Grain Cheerios</td>\n",
       "      <td>G</td>\n",
       "      <td>C</td>\n",
       "      <td>100.0</td>\n",
       "      <td>2.0</td>\n",
       "      <td>1.0</td>\n",
       "      <td>220.0</td>\n",
       "      <td>2.0</td>\n",
       "      <td>15.0</td>\n",
       "      <td>6.0</td>\n",
       "      <td>90.0</td>\n",
       "      <td>25.0</td>\n",
       "      <td>1.0</td>\n",
       "      <td>1.0</td>\n",
       "      <td>1.0</td>\n",
       "      <td>40.105965</td>\n",
       "    </tr>\n",
       "  </tbody>\n",
       "</table>\n",
       "</div>"
      ],
      "text/plain": [
       "                   name mfr type  calories  protein  fat  sodium  fiber  \\\n",
       "0             Corn Chex   R    C     110.0      2.0  0.0   280.0    0.0   \n",
       "1           Corn Flakes   K    C     100.0      2.0  0.0   290.0    1.0   \n",
       "2         Rice Krispies   K    C     110.0      2.0  0.0   290.0    0.0   \n",
       "3             Special K   K  NaN     110.0      6.0  0.0   230.0    1.0   \n",
       "4  Multi-Grain Cheerios   G    C     100.0      2.0  1.0   220.0    2.0   \n",
       "\n",
       "   carbo  sugars  potass  vitamins  shelf  weight  cups     rating  \n",
       "0   22.0     3.0    25.0      25.0    1.0     1.0   1.0  41.445019  \n",
       "1   21.0     2.0    35.0      25.0    1.0     1.0   1.0  45.863324  \n",
       "2   22.0     3.0    35.0      25.0    1.0     1.0   1.0  40.560159  \n",
       "3   16.0     3.0    55.0      25.0    1.0     1.0   1.0  53.131324  \n",
       "4   15.0     6.0    90.0      25.0    1.0     1.0   1.0  40.105965  "
      ]
     },
     "execution_count": 3,
     "metadata": {},
     "output_type": "execute_result"
    }
   ],
   "source": [
    "#  Q1 a  1 - Import cereal data .xlsx to Jupyter Notebook (df )\n",
    "\n",
    "df = pd.read_excel(\"cereal_data.xls\")\n",
    "df.head()\n"
   ]
  },
  {
   "cell_type": "code",
   "execution_count": null,
   "metadata": {},
   "outputs": [],
   "source": []
  },
  {
   "cell_type": "markdown",
   "metadata": {},
   "source": [
    "#  Q1 a 2  Write a Pandas program to display a summary of the basic information about a\n",
    "specified DataFrame and its data.\n",
    " 1 – data-frame columns, data-frame Dimensions\n",
    " 2 - Data types, Data-frame Information, etc ……..\n"
   ]
  },
  {
   "cell_type": "code",
   "execution_count": 4,
   "metadata": {},
   "outputs": [
    {
     "data": {
      "text/plain": [
       "Index(['name', 'mfr', 'type', 'calories', 'protein', 'fat', 'sodium', 'fiber',\n",
       "       'carbo', 'sugars', 'potass', 'vitamins', 'shelf', 'weight', 'cups',\n",
       "       'rating'],\n",
       "      dtype='object')"
      ]
     },
     "execution_count": 4,
     "metadata": {},
     "output_type": "execute_result"
    }
   ],
   "source": [
    "#data-frame columns\n",
    "df.columns"
   ]
  },
  {
   "cell_type": "code",
   "execution_count": null,
   "metadata": {},
   "outputs": [],
   "source": []
  },
  {
   "cell_type": "code",
   "execution_count": 5,
   "metadata": {},
   "outputs": [
    {
     "data": {
      "text/plain": [
       "(77, 16)"
      ]
     },
     "execution_count": 5,
     "metadata": {},
     "output_type": "execute_result"
    }
   ],
   "source": [
    "# data-frame Dimensions\n",
    "df.shape"
   ]
  },
  {
   "cell_type": "code",
   "execution_count": 6,
   "metadata": {},
   "outputs": [
    {
     "data": {
      "text/plain": [
       "name         object\n",
       "mfr          object\n",
       "type         object\n",
       "calories    float64\n",
       "protein     float64\n",
       "fat         float64\n",
       "sodium      float64\n",
       "fiber       float64\n",
       "carbo       float64\n",
       "sugars      float64\n",
       "potass      float64\n",
       "vitamins    float64\n",
       "shelf       float64\n",
       "weight      float64\n",
       "cups        float64\n",
       "rating      float64\n",
       "dtype: object"
      ]
     },
     "execution_count": 6,
     "metadata": {},
     "output_type": "execute_result"
    }
   ],
   "source": [
    "# Data types of cereal data base \n",
    "df.dtypes"
   ]
  },
  {
   "cell_type": "code",
   "execution_count": null,
   "metadata": {},
   "outputs": [],
   "source": []
  },
  {
   "cell_type": "code",
   "execution_count": 7,
   "metadata": {},
   "outputs": [
    {
     "name": "stdout",
     "output_type": "stream",
     "text": [
      "<class 'pandas.core.frame.DataFrame'>\n",
      "RangeIndex: 77 entries, 0 to 76\n",
      "Data columns (total 16 columns):\n",
      " #   Column    Non-Null Count  Dtype  \n",
      "---  ------    --------------  -----  \n",
      " 0   name      77 non-null     object \n",
      " 1   mfr       73 non-null     object \n",
      " 2   type      71 non-null     object \n",
      " 3   calories  76 non-null     float64\n",
      " 4   protein   76 non-null     float64\n",
      " 5   fat       75 non-null     float64\n",
      " 6   sodium    76 non-null     float64\n",
      " 7   fiber     75 non-null     float64\n",
      " 8   carbo     75 non-null     float64\n",
      " 9   sugars    75 non-null     float64\n",
      " 10  potass    76 non-null     float64\n",
      " 11  vitamins  76 non-null     float64\n",
      " 12  shelf     76 non-null     float64\n",
      " 13  weight    74 non-null     float64\n",
      " 14  cups      76 non-null     float64\n",
      " 15  rating    77 non-null     float64\n",
      "dtypes: float64(13), object(3)\n",
      "memory usage: 9.8+ KB\n"
     ]
    }
   ],
   "source": [
    "# Data-frame Informations,\n",
    "df.info()"
   ]
  },
  {
   "cell_type": "code",
   "execution_count": 8,
   "metadata": {},
   "outputs": [
    {
     "data": {
      "text/html": [
       "<div>\n",
       "<style scoped>\n",
       "    .dataframe tbody tr th:only-of-type {\n",
       "        vertical-align: middle;\n",
       "    }\n",
       "\n",
       "    .dataframe tbody tr th {\n",
       "        vertical-align: top;\n",
       "    }\n",
       "\n",
       "    .dataframe thead th {\n",
       "        text-align: right;\n",
       "    }\n",
       "</style>\n",
       "<table border=\"1\" class=\"dataframe\">\n",
       "  <thead>\n",
       "    <tr style=\"text-align: right;\">\n",
       "      <th></th>\n",
       "      <th>name</th>\n",
       "      <th>mfr</th>\n",
       "      <th>type</th>\n",
       "      <th>calories</th>\n",
       "      <th>protein</th>\n",
       "      <th>fat</th>\n",
       "      <th>sodium</th>\n",
       "      <th>fiber</th>\n",
       "      <th>carbo</th>\n",
       "      <th>sugars</th>\n",
       "      <th>potass</th>\n",
       "      <th>vitamins</th>\n",
       "      <th>shelf</th>\n",
       "      <th>weight</th>\n",
       "      <th>cups</th>\n",
       "      <th>rating</th>\n",
       "    </tr>\n",
       "  </thead>\n",
       "  <tbody>\n",
       "    <tr>\n",
       "      <th>0</th>\n",
       "      <td>Corn Chex</td>\n",
       "      <td>R</td>\n",
       "      <td>C</td>\n",
       "      <td>110.0</td>\n",
       "      <td>2.0</td>\n",
       "      <td>0.0</td>\n",
       "      <td>280.0</td>\n",
       "      <td>0.0</td>\n",
       "      <td>22.0</td>\n",
       "      <td>3.0</td>\n",
       "      <td>25.0</td>\n",
       "      <td>25.0</td>\n",
       "      <td>1.0</td>\n",
       "      <td>1.0</td>\n",
       "      <td>1.0</td>\n",
       "      <td>41.445019</td>\n",
       "    </tr>\n",
       "    <tr>\n",
       "      <th>1</th>\n",
       "      <td>Corn Flakes</td>\n",
       "      <td>K</td>\n",
       "      <td>C</td>\n",
       "      <td>100.0</td>\n",
       "      <td>2.0</td>\n",
       "      <td>0.0</td>\n",
       "      <td>290.0</td>\n",
       "      <td>1.0</td>\n",
       "      <td>21.0</td>\n",
       "      <td>2.0</td>\n",
       "      <td>35.0</td>\n",
       "      <td>25.0</td>\n",
       "      <td>1.0</td>\n",
       "      <td>1.0</td>\n",
       "      <td>1.0</td>\n",
       "      <td>45.863324</td>\n",
       "    </tr>\n",
       "    <tr>\n",
       "      <th>2</th>\n",
       "      <td>Rice Krispies</td>\n",
       "      <td>K</td>\n",
       "      <td>C</td>\n",
       "      <td>110.0</td>\n",
       "      <td>2.0</td>\n",
       "      <td>0.0</td>\n",
       "      <td>290.0</td>\n",
       "      <td>0.0</td>\n",
       "      <td>22.0</td>\n",
       "      <td>3.0</td>\n",
       "      <td>35.0</td>\n",
       "      <td>25.0</td>\n",
       "      <td>1.0</td>\n",
       "      <td>1.0</td>\n",
       "      <td>1.0</td>\n",
       "      <td>40.560159</td>\n",
       "    </tr>\n",
       "    <tr>\n",
       "      <th>3</th>\n",
       "      <td>Special K</td>\n",
       "      <td>K</td>\n",
       "      <td>NaN</td>\n",
       "      <td>110.0</td>\n",
       "      <td>6.0</td>\n",
       "      <td>0.0</td>\n",
       "      <td>230.0</td>\n",
       "      <td>1.0</td>\n",
       "      <td>16.0</td>\n",
       "      <td>3.0</td>\n",
       "      <td>55.0</td>\n",
       "      <td>25.0</td>\n",
       "      <td>1.0</td>\n",
       "      <td>1.0</td>\n",
       "      <td>1.0</td>\n",
       "      <td>53.131324</td>\n",
       "    </tr>\n",
       "    <tr>\n",
       "      <th>4</th>\n",
       "      <td>Multi-Grain Cheerios</td>\n",
       "      <td>G</td>\n",
       "      <td>C</td>\n",
       "      <td>100.0</td>\n",
       "      <td>2.0</td>\n",
       "      <td>1.0</td>\n",
       "      <td>220.0</td>\n",
       "      <td>2.0</td>\n",
       "      <td>15.0</td>\n",
       "      <td>6.0</td>\n",
       "      <td>90.0</td>\n",
       "      <td>25.0</td>\n",
       "      <td>1.0</td>\n",
       "      <td>1.0</td>\n",
       "      <td>1.0</td>\n",
       "      <td>40.105965</td>\n",
       "    </tr>\n",
       "  </tbody>\n",
       "</table>\n",
       "</div>"
      ],
      "text/plain": [
       "                   name mfr type  calories  protein  fat  sodium  fiber  \\\n",
       "0             Corn Chex   R    C     110.0      2.0  0.0   280.0    0.0   \n",
       "1           Corn Flakes   K    C     100.0      2.0  0.0   290.0    1.0   \n",
       "2         Rice Krispies   K    C     110.0      2.0  0.0   290.0    0.0   \n",
       "3             Special K   K  NaN     110.0      6.0  0.0   230.0    1.0   \n",
       "4  Multi-Grain Cheerios   G    C     100.0      2.0  1.0   220.0    2.0   \n",
       "\n",
       "   carbo  sugars  potass  vitamins  shelf  weight  cups     rating  \n",
       "0   22.0     3.0    25.0      25.0    1.0     1.0   1.0  41.445019  \n",
       "1   21.0     2.0    35.0      25.0    1.0     1.0   1.0  45.863324  \n",
       "2   22.0     3.0    35.0      25.0    1.0     1.0   1.0  40.560159  \n",
       "3   16.0     3.0    55.0      25.0    1.0     1.0   1.0  53.131324  \n",
       "4   15.0     6.0    90.0      25.0    1.0     1.0   1.0  40.105965  "
      ]
     },
     "execution_count": 8,
     "metadata": {},
     "output_type": "execute_result"
    }
   ],
   "source": [
    "# first 5  rows\n",
    "df.head()"
   ]
  },
  {
   "cell_type": "code",
   "execution_count": 9,
   "metadata": {},
   "outputs": [
    {
     "data": {
      "text/html": [
       "<div>\n",
       "<style scoped>\n",
       "    .dataframe tbody tr th:only-of-type {\n",
       "        vertical-align: middle;\n",
       "    }\n",
       "\n",
       "    .dataframe tbody tr th {\n",
       "        vertical-align: top;\n",
       "    }\n",
       "\n",
       "    .dataframe thead th {\n",
       "        text-align: right;\n",
       "    }\n",
       "</style>\n",
       "<table border=\"1\" class=\"dataframe\">\n",
       "  <thead>\n",
       "    <tr style=\"text-align: right;\">\n",
       "      <th></th>\n",
       "      <th>name</th>\n",
       "      <th>mfr</th>\n",
       "      <th>type</th>\n",
       "      <th>calories</th>\n",
       "      <th>protein</th>\n",
       "      <th>fat</th>\n",
       "      <th>sodium</th>\n",
       "      <th>fiber</th>\n",
       "      <th>carbo</th>\n",
       "      <th>sugars</th>\n",
       "      <th>potass</th>\n",
       "      <th>vitamins</th>\n",
       "      <th>shelf</th>\n",
       "      <th>weight</th>\n",
       "      <th>cups</th>\n",
       "      <th>rating</th>\n",
       "    </tr>\n",
       "  </thead>\n",
       "  <tbody>\n",
       "    <tr>\n",
       "      <th>72</th>\n",
       "      <td>Grape Nuts Flakes</td>\n",
       "      <td>P</td>\n",
       "      <td>C</td>\n",
       "      <td>100.0</td>\n",
       "      <td>3.0</td>\n",
       "      <td>1.0</td>\n",
       "      <td>140.0</td>\n",
       "      <td>3.0</td>\n",
       "      <td>15.0</td>\n",
       "      <td>5.0</td>\n",
       "      <td>85.0</td>\n",
       "      <td>25.0</td>\n",
       "      <td>3.0</td>\n",
       "      <td>1.0</td>\n",
       "      <td>0.88</td>\n",
       "      <td>52.076897</td>\n",
       "    </tr>\n",
       "    <tr>\n",
       "      <th>73</th>\n",
       "      <td>Rice Chex</td>\n",
       "      <td>R</td>\n",
       "      <td>C</td>\n",
       "      <td>NaN</td>\n",
       "      <td>1.0</td>\n",
       "      <td>0.0</td>\n",
       "      <td>240.0</td>\n",
       "      <td>0.0</td>\n",
       "      <td>23.0</td>\n",
       "      <td>2.0</td>\n",
       "      <td>30.0</td>\n",
       "      <td>25.0</td>\n",
       "      <td>1.0</td>\n",
       "      <td>1.0</td>\n",
       "      <td>1.13</td>\n",
       "      <td>41.998933</td>\n",
       "    </tr>\n",
       "    <tr>\n",
       "      <th>74</th>\n",
       "      <td>Cheerios</td>\n",
       "      <td>G</td>\n",
       "      <td>C</td>\n",
       "      <td>110.0</td>\n",
       "      <td>6.0</td>\n",
       "      <td>2.0</td>\n",
       "      <td>290.0</td>\n",
       "      <td>2.0</td>\n",
       "      <td>17.0</td>\n",
       "      <td>1.0</td>\n",
       "      <td>105.0</td>\n",
       "      <td>25.0</td>\n",
       "      <td>1.0</td>\n",
       "      <td>1.0</td>\n",
       "      <td>1.25</td>\n",
       "      <td>50.764999</td>\n",
       "    </tr>\n",
       "    <tr>\n",
       "      <th>75</th>\n",
       "      <td>Honey-comb</td>\n",
       "      <td>P</td>\n",
       "      <td>C</td>\n",
       "      <td>110.0</td>\n",
       "      <td>1.0</td>\n",
       "      <td>0.0</td>\n",
       "      <td>180.0</td>\n",
       "      <td>0.0</td>\n",
       "      <td>14.0</td>\n",
       "      <td>11.0</td>\n",
       "      <td>35.0</td>\n",
       "      <td>25.0</td>\n",
       "      <td>1.0</td>\n",
       "      <td>1.0</td>\n",
       "      <td>1.33</td>\n",
       "      <td>28.742414</td>\n",
       "    </tr>\n",
       "    <tr>\n",
       "      <th>76</th>\n",
       "      <td>Kix</td>\n",
       "      <td>G</td>\n",
       "      <td>C</td>\n",
       "      <td>110.0</td>\n",
       "      <td>2.0</td>\n",
       "      <td>1.0</td>\n",
       "      <td>260.0</td>\n",
       "      <td>0.0</td>\n",
       "      <td>21.0</td>\n",
       "      <td>3.0</td>\n",
       "      <td>40.0</td>\n",
       "      <td>25.0</td>\n",
       "      <td>2.0</td>\n",
       "      <td>1.0</td>\n",
       "      <td>1.50</td>\n",
       "      <td>39.241114</td>\n",
       "    </tr>\n",
       "  </tbody>\n",
       "</table>\n",
       "</div>"
      ],
      "text/plain": [
       "                 name mfr type  calories  protein  fat  sodium  fiber  carbo  \\\n",
       "72  Grape Nuts Flakes   P    C     100.0      3.0  1.0   140.0    3.0   15.0   \n",
       "73          Rice Chex   R    C       NaN      1.0  0.0   240.0    0.0   23.0   \n",
       "74           Cheerios   G    C     110.0      6.0  2.0   290.0    2.0   17.0   \n",
       "75         Honey-comb   P    C     110.0      1.0  0.0   180.0    0.0   14.0   \n",
       "76                Kix   G    C     110.0      2.0  1.0   260.0    0.0   21.0   \n",
       "\n",
       "    sugars  potass  vitamins  shelf  weight  cups     rating  \n",
       "72     5.0    85.0      25.0    3.0     1.0  0.88  52.076897  \n",
       "73     2.0    30.0      25.0    1.0     1.0  1.13  41.998933  \n",
       "74     1.0   105.0      25.0    1.0     1.0  1.25  50.764999  \n",
       "75    11.0    35.0      25.0    1.0     1.0  1.33  28.742414  \n",
       "76     3.0    40.0      25.0    2.0     1.0  1.50  39.241114  "
      ]
     },
     "execution_count": 9,
     "metadata": {},
     "output_type": "execute_result"
    }
   ],
   "source": [
    "#last 5 rows \n",
    "df.tail()"
   ]
  },
  {
   "cell_type": "code",
   "execution_count": null,
   "metadata": {},
   "outputs": [],
   "source": []
  },
  {
   "cell_type": "markdown",
   "metadata": {},
   "source": [
    "Q1 - 2   Clean data-frame (df) –\n",
    "- Quantitative variables: Replace by the Mean: Calculates the column mean and\n",
    "uses the mean as the replacement value for each missing value in the column.\n",
    "- Categorical variables: Replace by the Mode : Calculates the column mode and\n",
    "uses the mode as the replacement value for each missing value in the column."
   ]
  },
  {
   "cell_type": "code",
   "execution_count": 9,
   "metadata": {},
   "outputs": [
    {
     "data": {
      "text/plain": [
       "name        0\n",
       "mfr         4\n",
       "type        6\n",
       "calories    1\n",
       "protein     1\n",
       "fat         2\n",
       "sodium      1\n",
       "fiber       2\n",
       "carbo       2\n",
       "sugars      2\n",
       "potass      1\n",
       "vitamins    1\n",
       "shelf       1\n",
       "weight      3\n",
       "cups        1\n",
       "rating      0\n",
       "dtype: int64"
      ]
     },
     "execution_count": 9,
     "metadata": {},
     "output_type": "execute_result"
    }
   ],
   "source": [
    "# missing data list\n",
    "df.isnull().sum()"
   ]
  },
  {
   "cell_type": "code",
   "execution_count": null,
   "metadata": {},
   "outputs": [],
   "source": [
    "\n",
    "    "
   ]
  },
  {
   "cell_type": "code",
   "execution_count": 10,
   "metadata": {},
   "outputs": [],
   "source": [
    "#Quantitative variables: Replace by the column Mean: \n",
    "\n",
    "df = df.fillna(df.mean())\n"
   ]
  },
  {
   "cell_type": "code",
   "execution_count": 11,
   "metadata": {},
   "outputs": [
    {
     "data": {
      "text/plain": [
       "name        0\n",
       "mfr         4\n",
       "type        6\n",
       "calories    0\n",
       "protein     0\n",
       "fat         0\n",
       "sodium      0\n",
       "fiber       0\n",
       "carbo       0\n",
       "sugars      0\n",
       "potass      0\n",
       "vitamins    0\n",
       "shelf       0\n",
       "weight      0\n",
       "cups        0\n",
       "rating      0\n",
       "dtype: int64"
      ]
     },
     "execution_count": 11,
     "metadata": {},
     "output_type": "execute_result"
    }
   ],
   "source": [
    "df.isnull().sum()"
   ]
  },
  {
   "cell_type": "code",
   "execution_count": null,
   "metadata": {},
   "outputs": [],
   "source": []
  },
  {
   "cell_type": "code",
   "execution_count": 12,
   "metadata": {},
   "outputs": [],
   "source": [
    "#Categorical variables: Replace by the Mode\n",
    "df = df.fillna(df.mode().iloc[0])"
   ]
  },
  {
   "cell_type": "code",
   "execution_count": 13,
   "metadata": {},
   "outputs": [
    {
     "data": {
      "text/plain": [
       "name        0\n",
       "mfr         0\n",
       "type        0\n",
       "calories    0\n",
       "protein     0\n",
       "fat         0\n",
       "sodium      0\n",
       "fiber       0\n",
       "carbo       0\n",
       "sugars      0\n",
       "potass      0\n",
       "vitamins    0\n",
       "shelf       0\n",
       "weight      0\n",
       "cups        0\n",
       "rating      0\n",
       "dtype: int64"
      ]
     },
     "execution_count": 13,
     "metadata": {},
     "output_type": "execute_result"
    }
   ],
   "source": [
    "df.isnull().sum()"
   ]
  },
  {
   "cell_type": "code",
   "execution_count": 15,
   "metadata": {},
   "outputs": [],
   "source": [
    "#  Methode 2  filna with loop for  x in  (the list of cat- variables )\n",
    "\n",
    "for  x  in ['mfr', 'type']:\n",
    "    mode = df[x].mode()\n",
    "    df[x] = df[x].fillna(mode)\n",
    "    "
   ]
  },
  {
   "cell_type": "code",
   "execution_count": null,
   "metadata": {},
   "outputs": [],
   "source": []
  },
  {
   "cell_type": "code",
   "execution_count": 16,
   "metadata": {},
   "outputs": [
    {
     "data": {
      "text/plain": [
       "name        0\n",
       "mfr         0\n",
       "type        0\n",
       "calories    0\n",
       "protein     0\n",
       "fat         0\n",
       "sodium      0\n",
       "fiber       0\n",
       "carbo       0\n",
       "sugars      0\n",
       "potass      0\n",
       "vitamins    0\n",
       "shelf       0\n",
       "weight      0\n",
       "cups        0\n",
       "rating      0\n",
       "dtype: int64"
      ]
     },
     "execution_count": 16,
     "metadata": {},
     "output_type": "execute_result"
    }
   ],
   "source": [
    "df.isnull().sum()"
   ]
  },
  {
   "cell_type": "code",
   "execution_count": null,
   "metadata": {},
   "outputs": [],
   "source": []
  },
  {
   "cell_type": "code",
   "execution_count": 112,
   "metadata": {},
   "outputs": [],
   "source": [
    "# Q1 1 c - Find the Minimum \"calories'\" cereal name\n"
   ]
  },
  {
   "cell_type": "code",
   "execution_count": 14,
   "metadata": {},
   "outputs": [
    {
     "data": {
      "text/plain": [
       "50.0"
      ]
     },
     "execution_count": 14,
     "metadata": {},
     "output_type": "execute_result"
    }
   ],
   "source": [
    "min_cal = df['calories'].min()\n",
    "min_cal"
   ]
  },
  {
   "cell_type": "code",
   "execution_count": 119,
   "metadata": {},
   "outputs": [
    {
     "data": {
      "text/html": [
       "<div>\n",
       "<style scoped>\n",
       "    .dataframe tbody tr th:only-of-type {\n",
       "        vertical-align: middle;\n",
       "    }\n",
       "\n",
       "    .dataframe tbody tr th {\n",
       "        vertical-align: top;\n",
       "    }\n",
       "\n",
       "    .dataframe thead th {\n",
       "        text-align: right;\n",
       "    }\n",
       "</style>\n",
       "<table border=\"1\" class=\"dataframe\">\n",
       "  <thead>\n",
       "    <tr style=\"text-align: right;\">\n",
       "      <th></th>\n",
       "      <th>name</th>\n",
       "      <th>calories</th>\n",
       "    </tr>\n",
       "  </thead>\n",
       "  <tbody>\n",
       "    <tr>\n",
       "      <th>26</th>\n",
       "      <td>Puffed Rice</td>\n",
       "      <td>50.0</td>\n",
       "    </tr>\n",
       "    <tr>\n",
       "      <th>27</th>\n",
       "      <td>Puffed Wheat</td>\n",
       "      <td>50.0</td>\n",
       "    </tr>\n",
       "    <tr>\n",
       "      <th>39</th>\n",
       "      <td>All-Bran with Extra Fiber</td>\n",
       "      <td>50.0</td>\n",
       "    </tr>\n",
       "  </tbody>\n",
       "</table>\n",
       "</div>"
      ],
      "text/plain": [
       "                         name  calories\n",
       "26                Puffed Rice      50.0\n",
       "27               Puffed Wheat      50.0\n",
       "39  All-Bran with Extra Fiber      50.0"
      ]
     },
     "execution_count": 119,
     "metadata": {},
     "output_type": "execute_result"
    }
   ],
   "source": [
    "min_cal = df['calories'].min()\n",
    "\n",
    "nam_calor  = df[[ 'name', 'calories']]\n",
    "\n",
    "list_min_calor = nam_calor.loc[nam_calor['calories']== min_cal]\n",
    "\n",
    "list_min_calor"
   ]
  },
  {
   "cell_type": "code",
   "execution_count": null,
   "metadata": {},
   "outputs": [],
   "source": []
  },
  {
   "cell_type": "code",
   "execution_count": 20,
   "metadata": {},
   "outputs": [
    {
     "data": {
      "text/html": [
       "<div>\n",
       "<style scoped>\n",
       "    .dataframe tbody tr th:only-of-type {\n",
       "        vertical-align: middle;\n",
       "    }\n",
       "\n",
       "    .dataframe tbody tr th {\n",
       "        vertical-align: top;\n",
       "    }\n",
       "\n",
       "    .dataframe thead th {\n",
       "        text-align: right;\n",
       "    }\n",
       "</style>\n",
       "<table border=\"1\" class=\"dataframe\">\n",
       "  <thead>\n",
       "    <tr style=\"text-align: right;\">\n",
       "      <th></th>\n",
       "      <th>name</th>\n",
       "      <th>calories</th>\n",
       "    </tr>\n",
       "  </thead>\n",
       "  <tbody>\n",
       "    <tr>\n",
       "      <th>26</th>\n",
       "      <td>Puffed Rice</td>\n",
       "      <td>50.0</td>\n",
       "    </tr>\n",
       "    <tr>\n",
       "      <th>27</th>\n",
       "      <td>Puffed Wheat</td>\n",
       "      <td>50.0</td>\n",
       "    </tr>\n",
       "    <tr>\n",
       "      <th>39</th>\n",
       "      <td>All-Bran with Extra Fiber</td>\n",
       "      <td>50.0</td>\n",
       "    </tr>\n",
       "  </tbody>\n",
       "</table>\n",
       "</div>"
      ],
      "text/plain": [
       "                         name  calories\n",
       "26                Puffed Rice      50.0\n",
       "27               Puffed Wheat      50.0\n",
       "39  All-Bran with Extra Fiber      50.0"
      ]
     },
     "execution_count": 20,
     "metadata": {},
     "output_type": "execute_result"
    }
   ],
   "source": [
    " # methode 2 \n",
    "df[[ 'name', 'calories']].loc[df[[ 'name', 'calories']]['calories']== df['calories'].min() ]"
   ]
  },
  {
   "cell_type": "code",
   "execution_count": null,
   "metadata": {},
   "outputs": [],
   "source": []
  },
  {
   "cell_type": "code",
   "execution_count": 21,
   "metadata": {},
   "outputs": [
    {
     "data": {
      "text/html": [
       "<div>\n",
       "<style scoped>\n",
       "    .dataframe tbody tr th:only-of-type {\n",
       "        vertical-align: middle;\n",
       "    }\n",
       "\n",
       "    .dataframe tbody tr th {\n",
       "        vertical-align: top;\n",
       "    }\n",
       "\n",
       "    .dataframe thead th {\n",
       "        text-align: right;\n",
       "    }\n",
       "</style>\n",
       "<table border=\"1\" class=\"dataframe\">\n",
       "  <thead>\n",
       "    <tr style=\"text-align: right;\">\n",
       "      <th></th>\n",
       "      <th>name</th>\n",
       "      <th>calories</th>\n",
       "    </tr>\n",
       "  </thead>\n",
       "  <tbody>\n",
       "    <tr>\n",
       "      <th>26</th>\n",
       "      <td>Puffed Rice</td>\n",
       "      <td>50.0</td>\n",
       "    </tr>\n",
       "    <tr>\n",
       "      <th>27</th>\n",
       "      <td>Puffed Wheat</td>\n",
       "      <td>50.0</td>\n",
       "    </tr>\n",
       "    <tr>\n",
       "      <th>39</th>\n",
       "      <td>All-Bran with Extra Fiber</td>\n",
       "      <td>50.0</td>\n",
       "    </tr>\n",
       "  </tbody>\n",
       "</table>\n",
       "</div>"
      ],
      "text/plain": [
       "                         name  calories\n",
       "26                Puffed Rice      50.0\n",
       "27               Puffed Wheat      50.0\n",
       "39  All-Bran with Extra Fiber      50.0"
      ]
     },
     "execution_count": 21,
     "metadata": {},
     "output_type": "execute_result"
    }
   ],
   "source": [
    "# Find the Minimum \"calories'\" cereal name\n",
    "\n",
    "min_cal = df['calories'].min()\n",
    "\n",
    "nam_calor  = df[[ 'name', 'calories']]\n",
    "\n",
    "list_min_calor  = nam_calor.loc[nam_calor['calories']== min_cal ]\n",
    "\n",
    "list_min_calor\n"
   ]
  },
  {
   "cell_type": "code",
   "execution_count": null,
   "metadata": {},
   "outputs": [],
   "source": []
  },
  {
   "cell_type": "code",
   "execution_count": 22,
   "metadata": {},
   "outputs": [
    {
     "data": {
      "text/plain": [
       "Index(['name', 'mfr', 'type', 'calories', 'protein', 'fat', 'sodium', 'fiber',\n",
       "       'carbo', 'sugars', 'potass', 'vitamins', 'shelf', 'weight', 'cups',\n",
       "       'rating'],\n",
       "      dtype='object')"
      ]
     },
     "execution_count": 22,
     "metadata": {},
     "output_type": "execute_result"
    }
   ],
   "source": [
    "df.columns"
   ]
  },
  {
   "cell_type": "code",
   "execution_count": 23,
   "metadata": {},
   "outputs": [],
   "source": [
    "# Print the list of ceral name  with Sugars rate  = 0 "
   ]
  },
  {
   "cell_type": "code",
   "execution_count": 24,
   "metadata": {},
   "outputs": [
    {
     "data": {
      "text/html": [
       "<div>\n",
       "<style scoped>\n",
       "    .dataframe tbody tr th:only-of-type {\n",
       "        vertical-align: middle;\n",
       "    }\n",
       "\n",
       "    .dataframe tbody tr th {\n",
       "        vertical-align: top;\n",
       "    }\n",
       "\n",
       "    .dataframe thead th {\n",
       "        text-align: right;\n",
       "    }\n",
       "</style>\n",
       "<table border=\"1\" class=\"dataframe\">\n",
       "  <thead>\n",
       "    <tr style=\"text-align: right;\">\n",
       "      <th></th>\n",
       "      <th>name</th>\n",
       "      <th>sugars</th>\n",
       "    </tr>\n",
       "  </thead>\n",
       "  <tbody>\n",
       "    <tr>\n",
       "      <th>6</th>\n",
       "      <td>Cream of Wheat (Quick)</td>\n",
       "      <td>0.0</td>\n",
       "    </tr>\n",
       "    <tr>\n",
       "      <th>26</th>\n",
       "      <td>Puffed Rice</td>\n",
       "      <td>0.0</td>\n",
       "    </tr>\n",
       "    <tr>\n",
       "      <th>27</th>\n",
       "      <td>Puffed Wheat</td>\n",
       "      <td>0.0</td>\n",
       "    </tr>\n",
       "    <tr>\n",
       "      <th>28</th>\n",
       "      <td>Shredded Wheat</td>\n",
       "      <td>0.0</td>\n",
       "    </tr>\n",
       "    <tr>\n",
       "      <th>39</th>\n",
       "      <td>All-Bran with Extra Fiber</td>\n",
       "      <td>0.0</td>\n",
       "    </tr>\n",
       "    <tr>\n",
       "      <th>42</th>\n",
       "      <td>Shredded Wheat spoon size</td>\n",
       "      <td>0.0</td>\n",
       "    </tr>\n",
       "    <tr>\n",
       "      <th>43</th>\n",
       "      <td>Shredded Wheat 'n'Bran</td>\n",
       "      <td>0.0</td>\n",
       "    </tr>\n",
       "  </tbody>\n",
       "</table>\n",
       "</div>"
      ],
      "text/plain": [
       "                         name  sugars\n",
       "6      Cream of Wheat (Quick)     0.0\n",
       "26                Puffed Rice     0.0\n",
       "27               Puffed Wheat     0.0\n",
       "28             Shredded Wheat     0.0\n",
       "39  All-Bran with Extra Fiber     0.0\n",
       "42  Shredded Wheat spoon size     0.0\n",
       "43     Shredded Wheat 'n'Bran     0.0"
      ]
     },
     "execution_count": 24,
     "metadata": {},
     "output_type": "execute_result"
    }
   ],
   "source": [
    "# Print the list of ceral name  with Sugars rate  = 0 \n",
    "\n",
    "nam_sug = df[['name',  'sugars']]\n",
    "\n",
    "nam_sug_list = nam_sug.loc[nam_sug['sugars']==0 ]\n",
    "\n",
    "nam_sug_list"
   ]
  },
  {
   "cell_type": "code",
   "execution_count": null,
   "metadata": {},
   "outputs": [],
   "source": []
  },
  {
   "cell_type": "raw",
   "metadata": {},
   "source": [
    "Print the list of ceral name with the following four (4) conditions :\n",
    "- Calories rate > mean and Protein rate > mean\n",
    "- Carbo rate < mean and Potass rate < mean\n",
    "\n"
   ]
  },
  {
   "cell_type": "code",
   "execution_count": 121,
   "metadata": {},
   "outputs": [
    {
     "data": {
      "text/html": [
       "<div>\n",
       "<style scoped>\n",
       "    .dataframe tbody tr th:only-of-type {\n",
       "        vertical-align: middle;\n",
       "    }\n",
       "\n",
       "    .dataframe tbody tr th {\n",
       "        vertical-align: top;\n",
       "    }\n",
       "\n",
       "    .dataframe thead th {\n",
       "        text-align: right;\n",
       "    }\n",
       "</style>\n",
       "<table border=\"1\" class=\"dataframe\">\n",
       "  <thead>\n",
       "    <tr style=\"text-align: right;\">\n",
       "      <th></th>\n",
       "      <th>name</th>\n",
       "      <th>mfr</th>\n",
       "      <th>type</th>\n",
       "      <th>calories</th>\n",
       "      <th>protein</th>\n",
       "      <th>fat</th>\n",
       "      <th>sodium</th>\n",
       "      <th>fiber</th>\n",
       "      <th>carbo</th>\n",
       "      <th>sugars</th>\n",
       "      <th>potass</th>\n",
       "      <th>vitamins</th>\n",
       "      <th>shelf</th>\n",
       "      <th>weight</th>\n",
       "      <th>cups</th>\n",
       "      <th>rating</th>\n",
       "      <th>Glob_Nut</th>\n",
       "      <th>Category</th>\n",
       "    </tr>\n",
       "  </thead>\n",
       "  <tbody>\n",
       "    <tr>\n",
       "      <th>57</th>\n",
       "      <td>Honey Nut Cheerios</td>\n",
       "      <td>G</td>\n",
       "      <td>C</td>\n",
       "      <td>110.0</td>\n",
       "      <td>3.0</td>\n",
       "      <td>1.0</td>\n",
       "      <td>250.0</td>\n",
       "      <td>1.5</td>\n",
       "      <td>11.5</td>\n",
       "      <td>10.0</td>\n",
       "      <td>90.0</td>\n",
       "      <td>25.0</td>\n",
       "      <td>1.0</td>\n",
       "      <td>1.0</td>\n",
       "      <td>0.75</td>\n",
       "      <td>31.072217</td>\n",
       "      <td>0.526718</td>\n",
       "      <td>Cat2</td>\n",
       "    </tr>\n",
       "  </tbody>\n",
       "</table>\n",
       "</div>"
      ],
      "text/plain": [
       "                  name mfr type  calories  protein  fat  sodium  fiber  carbo  \\\n",
       "57  Honey Nut Cheerios   G    C     110.0      3.0  1.0   250.0    1.5   11.5   \n",
       "\n",
       "    sugars  potass  vitamins  shelf  weight  cups     rating  Glob_Nut  \\\n",
       "57    10.0    90.0      25.0    1.0     1.0  0.75  31.072217  0.526718   \n",
       "\n",
       "   Category  \n",
       "57     Cat2  "
      ]
     },
     "execution_count": 121,
     "metadata": {},
     "output_type": "execute_result"
    }
   ],
   "source": [
    "#df4 = (df['calories']> 0 & df['protein']>1)\n",
    "#df.loc[(df['calories'] > 5 &  (df['protein'] > 0)]\n",
    "\n",
    "df4conditions = df[(df['calories'] > df['calories'].mean()) \n",
    "            & (df['protein'] > df['protein'].mean())\n",
    "            & (df['carbo'] < df['carbo'].mean())\n",
    "            & (df['potass'] < df['potass'].mean())]\n",
    "                      \n",
    "df4conditions"
   ]
  },
  {
   "cell_type": "code",
   "execution_count": null,
   "metadata": {},
   "outputs": [],
   "source": []
  },
  {
   "cell_type": "markdown",
   "metadata": {},
   "source": [
    "# Print the Minimum of \" Vitamins_Rate & sodium_Rate\" by Cereal Type"
   ]
  },
  {
   "cell_type": "code",
   "execution_count": 26,
   "metadata": {},
   "outputs": [
    {
     "data": {
      "text/html": [
       "<div>\n",
       "<style scoped>\n",
       "    .dataframe tbody tr th:only-of-type {\n",
       "        vertical-align: middle;\n",
       "    }\n",
       "\n",
       "    .dataframe tbody tr th {\n",
       "        vertical-align: top;\n",
       "    }\n",
       "\n",
       "    .dataframe thead th {\n",
       "        text-align: right;\n",
       "    }\n",
       "</style>\n",
       "<table border=\"1\" class=\"dataframe\">\n",
       "  <thead>\n",
       "    <tr style=\"text-align: right;\">\n",
       "      <th></th>\n",
       "      <th>type</th>\n",
       "      <th>sodium</th>\n",
       "      <th>vitamins</th>\n",
       "    </tr>\n",
       "  </thead>\n",
       "  <tbody>\n",
       "    <tr>\n",
       "      <th>0</th>\n",
       "      <td>C</td>\n",
       "      <td>0.0</td>\n",
       "      <td>0.0</td>\n",
       "    </tr>\n",
       "    <tr>\n",
       "      <th>1</th>\n",
       "      <td>H</td>\n",
       "      <td>0.0</td>\n",
       "      <td>0.0</td>\n",
       "    </tr>\n",
       "  </tbody>\n",
       "</table>\n",
       "</div>"
      ],
      "text/plain": [
       "  type  sodium  vitamins\n",
       "0    C     0.0       0.0\n",
       "1    H     0.0       0.0"
      ]
     },
     "execution_count": 26,
     "metadata": {},
     "output_type": "execute_result"
    }
   ],
   "source": [
    "#Print the Minimum of \" Vitamins_Rate & sodium_Rate\" by Cereal Type\n",
    "\n",
    "TypeSV_min = pd.pivot_table(df,index=['type'], values =['sodium','vitamins'], aggfunc=np.min)\n",
    "TypeSV_min = TypeSV_min.reset_index()\n",
    "TypeSV_min"
   ]
  },
  {
   "cell_type": "code",
   "execution_count": null,
   "metadata": {},
   "outputs": [],
   "source": []
  },
  {
   "cell_type": "code",
   "execution_count": 27,
   "metadata": {},
   "outputs": [
    {
     "data": {
      "text/plain": [
       "Index(['name', 'mfr', 'type', 'calories', 'protein', 'fat', 'sodium', 'fiber',\n",
       "       'carbo', 'sugars', 'potass', 'vitamins', 'shelf', 'weight', 'cups',\n",
       "       'rating'],\n",
       "      dtype='object')"
      ]
     },
     "execution_count": 27,
     "metadata": {},
     "output_type": "execute_result"
    }
   ],
   "source": [
    "df.columns"
   ]
  },
  {
   "cell_type": "raw",
   "metadata": {},
   "source": [
    "Print the Mean of \" Vitamins_Rate & sodium_Rate\" by ( Cereal Type & mfr )"
   ]
  },
  {
   "cell_type": "code",
   "execution_count": 28,
   "metadata": {},
   "outputs": [
    {
     "data": {
      "text/html": [
       "<div>\n",
       "<style scoped>\n",
       "    .dataframe tbody tr th:only-of-type {\n",
       "        vertical-align: middle;\n",
       "    }\n",
       "\n",
       "    .dataframe tbody tr th {\n",
       "        vertical-align: top;\n",
       "    }\n",
       "\n",
       "    .dataframe thead th {\n",
       "        text-align: right;\n",
       "    }\n",
       "</style>\n",
       "<table border=\"1\" class=\"dataframe\">\n",
       "  <thead>\n",
       "    <tr style=\"text-align: right;\">\n",
       "      <th></th>\n",
       "      <th>type</th>\n",
       "      <th>mfr</th>\n",
       "      <th>sodium</th>\n",
       "      <th>vitamins</th>\n",
       "    </tr>\n",
       "  </thead>\n",
       "  <tbody>\n",
       "    <tr>\n",
       "      <th>0</th>\n",
       "      <td>C</td>\n",
       "      <td>G</td>\n",
       "      <td>192.692308</td>\n",
       "      <td>36.538462</td>\n",
       "    </tr>\n",
       "    <tr>\n",
       "      <th>1</th>\n",
       "      <td>C</td>\n",
       "      <td>K</td>\n",
       "      <td>180.000000</td>\n",
       "      <td>33.067867</td>\n",
       "    </tr>\n",
       "    <tr>\n",
       "      <th>2</th>\n",
       "      <td>C</td>\n",
       "      <td>N</td>\n",
       "      <td>29.000000</td>\n",
       "      <td>10.000000</td>\n",
       "    </tr>\n",
       "    <tr>\n",
       "      <th>3</th>\n",
       "      <td>C</td>\n",
       "      <td>P</td>\n",
       "      <td>146.074561</td>\n",
       "      <td>25.000000</td>\n",
       "    </tr>\n",
       "    <tr>\n",
       "      <th>4</th>\n",
       "      <td>C</td>\n",
       "      <td>Q</td>\n",
       "      <td>105.714286</td>\n",
       "      <td>14.285714</td>\n",
       "    </tr>\n",
       "    <tr>\n",
       "      <th>5</th>\n",
       "      <td>C</td>\n",
       "      <td>R</td>\n",
       "      <td>198.125000</td>\n",
       "      <td>25.000000</td>\n",
       "    </tr>\n",
       "    <tr>\n",
       "      <th>6</th>\n",
       "      <td>H</td>\n",
       "      <td>A</td>\n",
       "      <td>0.000000</td>\n",
       "      <td>25.000000</td>\n",
       "    </tr>\n",
       "    <tr>\n",
       "      <th>7</th>\n",
       "      <td>H</td>\n",
       "      <td>N</td>\n",
       "      <td>80.000000</td>\n",
       "      <td>0.000000</td>\n",
       "    </tr>\n",
       "    <tr>\n",
       "      <th>8</th>\n",
       "      <td>H</td>\n",
       "      <td>Q</td>\n",
       "      <td>0.000000</td>\n",
       "      <td>0.000000</td>\n",
       "    </tr>\n",
       "  </tbody>\n",
       "</table>\n",
       "</div>"
      ],
      "text/plain": [
       "  type mfr      sodium   vitamins\n",
       "0    C   G  192.692308  36.538462\n",
       "1    C   K  180.000000  33.067867\n",
       "2    C   N   29.000000  10.000000\n",
       "3    C   P  146.074561  25.000000\n",
       "4    C   Q  105.714286  14.285714\n",
       "5    C   R  198.125000  25.000000\n",
       "6    H   A    0.000000  25.000000\n",
       "7    H   N   80.000000   0.000000\n",
       "8    H   Q    0.000000   0.000000"
      ]
     },
     "execution_count": 28,
     "metadata": {},
     "output_type": "execute_result"
    }
   ],
   "source": [
    "#Print the Mean of \" Vitamins_Rate & sodium_Rate\" by ( Cereal Type & mfr )\n",
    "\n",
    "Mean_VS = pd.pivot_table(df,index=['type','mfr'], values =['vitamins','sodium'], aggfunc=np.mean)\n",
    "#Mean_VS = Graph1.reset_index()\n",
    "Mean_VS = Mean_VS.reset_index()\n",
    "Mean_VS"
   ]
  },
  {
   "cell_type": "code",
   "execution_count": null,
   "metadata": {},
   "outputs": [],
   "source": []
  },
  {
   "cell_type": "markdown",
   "metadata": {},
   "source": [
    "Using a loop ( for … in …) to select a column names from a list of columns:\n",
    " Print the list of ceral name with Min an the Max of each column"
   ]
  },
  {
   "cell_type": "code",
   "execution_count": 29,
   "metadata": {},
   "outputs": [
    {
     "data": {
      "text/plain": [
       "Index(['name', 'mfr', 'type', 'calories', 'protein', 'fat', 'sodium', 'fiber',\n",
       "       'carbo', 'sugars', 'potass', 'vitamins', 'shelf', 'weight', 'cups',\n",
       "       'rating'],\n",
       "      dtype='object')"
      ]
     },
     "execution_count": 29,
     "metadata": {},
     "output_type": "execute_result"
    }
   ],
   "source": [
    "df.columns"
   ]
  },
  {
   "cell_type": "code",
   "execution_count": 30,
   "metadata": {},
   "outputs": [
    {
     "data": {
      "text/plain": [
       "Index(['name', 'mfr', 'type', 'calories', 'protein', 'fat', 'sodium', 'fiber',\n",
       "       'carbo', 'sugars', 'potass', 'vitamins', 'shelf', 'weight', 'cups',\n",
       "       'rating'],\n",
       "      dtype='object')"
      ]
     },
     "execution_count": 30,
     "metadata": {},
     "output_type": "execute_result"
    }
   ],
   "source": [
    "df.columns"
   ]
  },
  {
   "cell_type": "code",
   "execution_count": 31,
   "metadata": {},
   "outputs": [],
   "source": [
    " #Using a loop ( for … in …) to select a column names from a list of columns:\n",
    " # Print the list of ceral name with Min an the Max of each column\n",
    "\n",
    "cols = [ 'calories', 'protein', 'fat', 'sodium', 'fiber',\n",
    "       'carbo', 'sugars', 'potass', 'vitamins', 'shelf', 'weight', 'cups',\n",
    "       'rating']"
   ]
  },
  {
   "cell_type": "code",
   "execution_count": 32,
   "metadata": {},
   "outputs": [
    {
     "name": "stdout",
     "output_type": "stream",
     "text": [
      " list of Min & Max of cereal ....\n",
      "****************************************************************\n",
      "calories\n",
      "===========================\n",
      "list of min  calories\n",
      "                         name  calories\n",
      "26                Puffed Rice      50.0\n",
      "27               Puffed Wheat      50.0\n",
      "39  All-Bran with Extra Fiber      50.0\n",
      "--------------------\n",
      "list of max  calories\n",
      "                    name  calories\n",
      "53  Mueslix Crispy Blend     160.0\n",
      " list of Min & Max of cereal ....\n",
      "****************************************************************\n",
      "protein\n",
      "===========================\n",
      "list of min  protein\n",
      "                     name  protein\n",
      "7               Corn Pops      1.0\n",
      "8                    Trix      1.0\n",
      "11       Honey Graham Ohs      1.0\n",
      "13            Cocoa Puffs      1.0\n",
      "14          Count Chocula      1.0\n",
      "26            Puffed Rice      1.0\n",
      "54         Frosted Flakes      1.0\n",
      "58         Fruity Pebbles      1.0\n",
      "59           Cap'n'Crunch      1.0\n",
      "61  Cinnamon Toast Crunch      1.0\n",
      "62         Golden Grahams      1.0\n",
      "73              Rice Chex      1.0\n",
      "75             Honey-comb      1.0\n",
      "--------------------\n",
      "list of max  protein\n",
      "         name  protein\n",
      "3   Special K      6.0\n",
      "74   Cheerios      6.0\n",
      " list of Min & Max of cereal ....\n",
      "****************************************************************\n",
      "fat\n",
      "===========================\n",
      "list of min  fat\n",
      "                         name  fat\n",
      "0                   Corn Chex  0.0\n",
      "1                 Corn Flakes  0.0\n",
      "2               Rice Krispies  0.0\n",
      "3                   Special K  0.0\n",
      "6      Cream of Wheat (Quick)  0.0\n",
      "7                   Corn Pops  0.0\n",
      "10                Apple Jacks  0.0\n",
      "15    Strawberry Fruit Wheats  0.0\n",
      "18                    Crispix  0.0\n",
      "19          Nutri-grain Wheat  0.0\n",
      "23                 Product 19  0.0\n",
      "26                Puffed Rice  0.0\n",
      "27               Puffed Wheat  0.0\n",
      "28             Shredded Wheat  0.0\n",
      "30                 Grape-Nuts  0.0\n",
      "36             Raisin Squares  0.0\n",
      "39  All-Bran with Extra Fiber  0.0\n",
      "42  Shredded Wheat spoon size  0.0\n",
      "43     Shredded Wheat 'n'Bran  0.0\n",
      "48                Bran Flakes  0.0\n",
      "51              Fruitful Bran  0.0\n",
      "54             Frosted Flakes  0.0\n",
      "65                Double Chex  0.0\n",
      "70        Frosted Mini-Wheats  0.0\n",
      "71               Golden Crisp  0.0\n",
      "73                  Rice Chex  0.0\n",
      "75                 Honey-comb  0.0\n",
      "--------------------\n",
      "list of max  fat\n",
      "                 name  fat\n",
      "17  100% Natural Bran  5.0\n",
      " list of Min & Max of cereal ....\n",
      "****************************************************************\n",
      "sodium\n",
      "===========================\n",
      "list of min  sodium\n",
      "                         name  sodium\n",
      "16                      Maypo     0.0\n",
      "26                Puffed Rice     0.0\n",
      "27               Puffed Wheat     0.0\n",
      "28             Shredded Wheat     0.0\n",
      "36             Raisin Squares     0.0\n",
      "41             Quaker Oatmeal     0.0\n",
      "42  Shredded Wheat spoon size     0.0\n",
      "43     Shredded Wheat 'n'Bran     0.0\n",
      "70        Frosted Mini-Wheats     0.0\n",
      "--------------------\n",
      "list of max  sodium\n",
      "          name  sodium\n",
      "23  Product 19   320.0\n",
      " list of Min & Max of cereal ....\n",
      "****************************************************************\n",
      "fiber\n",
      "===========================\n",
      "list of min  fiber\n",
      "                     name  fiber\n",
      "0               Corn Chex    0.0\n",
      "2           Rice Krispies    0.0\n",
      "8                    Trix    0.0\n",
      "12           Lucky Charms    0.0\n",
      "13            Cocoa Puffs    0.0\n",
      "14          Count Chocula    0.0\n",
      "16                  Maypo    0.0\n",
      "22      Total Corn Flakes    0.0\n",
      "26            Puffed Rice    0.0\n",
      "46       Nut&Honey Crunch    0.0\n",
      "58         Fruity Pebbles    0.0\n",
      "59           Cap'n'Crunch    0.0\n",
      "61  Cinnamon Toast Crunch    0.0\n",
      "62         Golden Grahams    0.0\n",
      "64                Triples    0.0\n",
      "71           Golden Crisp    0.0\n",
      "73              Rice Chex    0.0\n",
      "75             Honey-comb    0.0\n",
      "76                    Kix    0.0\n",
      "--------------------\n",
      "list of max  fiber\n",
      "                         name  fiber\n",
      "39  All-Bran with Extra Fiber   14.0\n",
      " list of Min & Max of cereal ....\n",
      "****************************************************************\n",
      "carbo\n",
      "===========================\n",
      "list of min  carbo\n",
      "              name  carbo\n",
      "41  Quaker Oatmeal   -1.0\n",
      "--------------------\n",
      "list of max  carbo\n",
      "         name  carbo\n",
      "73  Rice Chex   23.0\n",
      " list of Min & Max of cereal ....\n",
      "****************************************************************\n",
      "sugars\n",
      "===========================\n",
      "list of min  sugars\n",
      "              name  sugars\n",
      "41  Quaker Oatmeal    -1.0\n",
      "--------------------\n",
      "list of max  sugars\n",
      "            name  sugars\n",
      "60        Smacks    15.0\n",
      "71  Golden Crisp    15.0\n",
      " list of Min & Max of cereal ....\n",
      "****************************************************************\n",
      "potass\n",
      "===========================\n",
      "list of min  potass\n",
      "                      name  potass\n",
      "6   Cream of Wheat (Quick)    -1.0\n",
      "63          Almond Delight    -1.0\n",
      "--------------------\n",
      "list of max  potass\n",
      "                         name  potass\n",
      "39  All-Bran with Extra Fiber   330.0\n",
      " list of Min & Max of cereal ....\n",
      "****************************************************************\n",
      "vitamins\n",
      "===========================\n",
      "list of min  vitamins\n",
      "                         name  vitamins\n",
      "6      Cream of Wheat (Quick)       0.0\n",
      "17          100% Natural Bran       0.0\n",
      "26                Puffed Rice       0.0\n",
      "27               Puffed Wheat       0.0\n",
      "28             Shredded Wheat       0.0\n",
      "41             Quaker Oatmeal       0.0\n",
      "42  Shredded Wheat spoon size       0.0\n",
      "43     Shredded Wheat 'n'Bran       0.0\n",
      "--------------------\n",
      "list of max  vitamins\n",
      "                           name  vitamins\n",
      "22            Total Corn Flakes     100.0\n",
      "23                   Product 19     100.0\n",
      "24  Just Right Crunchy  Nuggets     100.0\n",
      "25            Total Whole Grain     100.0\n",
      "29            Total Raisin Bran     100.0\n",
      "67       Just Right Fruit & Nut     100.0\n",
      " list of Min & Max of cereal ....\n",
      "****************************************************************\n",
      "shelf\n",
      "===========================\n",
      "list of min  shelf\n",
      "                         name  shelf\n",
      "0                   Corn Chex    1.0\n",
      "1                 Corn Flakes    1.0\n",
      "2               Rice Krispies    1.0\n",
      "3                   Special K    1.0\n",
      "4        Multi-Grain Cheerios    1.0\n",
      "5                    Wheaties    1.0\n",
      "28             Shredded Wheat    1.0\n",
      "41             Quaker Oatmeal    1.0\n",
      "42  Shredded Wheat spoon size    1.0\n",
      "43     Shredded Wheat 'n'Bran    1.0\n",
      "44                 Wheat Chex    1.0\n",
      "45                  Bran Chex    1.0\n",
      "54             Frosted Flakes    1.0\n",
      "55        Wheaties Honey Gold    1.0\n",
      "56    Apple Cinnamon Cheerios    1.0\n",
      "57         Honey Nut Cheerios    1.0\n",
      "71               Golden Crisp    1.0\n",
      "73                  Rice Chex    1.0\n",
      "74                   Cheerios    1.0\n",
      "75                 Honey-comb    1.0\n",
      "--------------------\n",
      "list of max  shelf\n",
      "                                      name  shelf\n",
      "17                       100% Natural Bran    3.0\n",
      "18                                 Crispix    3.0\n",
      "19                       Nutri-grain Wheat    3.0\n",
      "20        Muesli Raisins, Dates, & Almonds    3.0\n",
      "21       Muesli Raisins, Peaches, & Pecans    3.0\n",
      "22                       Total Corn Flakes    3.0\n",
      "23                              Product 19    3.0\n",
      "24             Just Right Crunchy  Nuggets    3.0\n",
      "25                       Total Whole Grain    3.0\n",
      "26                             Puffed Rice    3.0\n",
      "27                            Puffed Wheat    3.0\n",
      "29                       Total Raisin Bran    3.0\n",
      "30                              Grape-Nuts    3.0\n",
      "31                      Great Grains Pecan    3.0\n",
      "32                               100% Bran    3.0\n",
      "33                                All-Bran    3.0\n",
      "34                                Clusters    3.0\n",
      "35                      Quaker Oat Squares    3.0\n",
      "36                          Raisin Squares    3.0\n",
      "37                         Raisin Nut Bran    3.0\n",
      "38                      Cracklin' Oat Bran    3.0\n",
      "39               All-Bran with Extra Fiber    3.0\n",
      "40                    Oatmeal Raisin Crisp    3.0\n",
      "48                             Bran Flakes    3.0\n",
      "49  Fruit & Fibre Dates, Walnuts, and Oats    3.0\n",
      "50               Nutri-Grain Almond-Raisin    3.0\n",
      "51                           Fruitful Bran    3.0\n",
      "52                   Post Nat. Raisin Bran    3.0\n",
      "53                    Mueslix Crispy Blend    3.0\n",
      "63                          Almond Delight    3.0\n",
      "64                                 Triples    3.0\n",
      "65                             Double Chex    3.0\n",
      "66                  Crispy Wheat & Raisins    3.0\n",
      "67                  Just Right Fruit & Nut    3.0\n",
      "69                                 Basic 4    3.0\n",
      "72                       Grape Nuts Flakes    3.0\n",
      " list of Min & Max of cereal ....\n",
      "****************************************************************\n",
      "weight\n",
      "===========================\n",
      "list of min  weight\n",
      "            name  weight\n",
      "26   Puffed Rice     0.5\n",
      "27  Puffed Wheat     0.5\n",
      "--------------------\n",
      "list of max  weight\n",
      "                    name  weight\n",
      "29     Total Raisin Bran     1.5\n",
      "53  Mueslix Crispy Blend     1.5\n",
      " list of Min & Max of cereal ....\n",
      "****************************************************************\n",
      "cups\n",
      "===========================\n",
      "list of min  cups\n",
      "          name  cups\n",
      "30  Grape-Nuts  0.25\n",
      "--------------------\n",
      "list of max  cups\n",
      "   name  cups\n",
      "76  Kix   1.5\n",
      " list of Min & Max of cereal ....\n",
      "****************************************************************\n",
      "rating\n",
      "===========================\n",
      "list of min  rating\n",
      "            name     rating\n",
      "59  Cap'n'Crunch  18.042851\n",
      "--------------------\n",
      "list of max  rating\n",
      "                         name     rating\n",
      "39  All-Bran with Extra Fiber  93.704912\n",
      "***********     END    END     **********************\n"
     ]
    }
   ],
   "source": [
    "for col in ['calories', 'protein', 'fat', 'sodium', 'fiber', 'carbo', 'sugars', 'potass',\n",
    "          'vitamins', 'shelf', 'weight', 'cups','rating']:\n",
    "    \n",
    "    print( \" list of Min & Max of cereal ....\")\n",
    "    print(\"****************************************************************\")\n",
    "    print(col)\n",
    "    print(\"===========================\")\n",
    "    print(\"list of min \", col)\n",
    "    \n",
    "    list_min_col  = df.loc[df[col]== df[col].min() ]\n",
    "    list_min  = list_min_col[[\"name\", col]]\n",
    "    print(list_min)\n",
    "    \n",
    "    print('--------------------')\n",
    "    print(\"list of max \", col)\n",
    "    list_max_col  = df.loc[df[col]== df[col].max() ]\n",
    "    list_max  = list_max_col[[\"name\", col]]\n",
    "    print(list_max)\n",
    "    \n",
    "print('***********     END    END     **********************')    \n",
    "    \n",
    "    \n",
    "    "
   ]
  },
  {
   "cell_type": "code",
   "execution_count": 33,
   "metadata": {},
   "outputs": [
    {
     "data": {
      "text/plain": [
       "array(['R', 'K', 'G', 'N', 'Q', 'A', 'P'], dtype=object)"
      ]
     },
     "execution_count": 33,
     "metadata": {},
     "output_type": "execute_result"
    }
   ],
   "source": [
    "df['mfr'].unique()"
   ]
  },
  {
   "cell_type": "markdown",
   "metadata": {},
   "source": [
    "The graph of the mean of ( 'calories' and 'potass’) by 'mrf ‘."
   ]
  },
  {
   "cell_type": "code",
   "execution_count": 34,
   "metadata": {},
   "outputs": [
    {
     "data": {
      "text/plain": [
       "Text(0.5, 1.0, \"calories and potass mean  by 'mrf\")"
      ]
     },
     "execution_count": 34,
     "metadata": {},
     "output_type": "execute_result"
    },
    {
     "data": {
      "image/png": "[encoded data removed]",
      "text/plain": [
       "<Figure size 432x288 with 1 Axes>"
      ]
     },
     "metadata": {
      "needs_background": "light"
     },
     "output_type": "display_data"
    }
   ],
   "source": [
    "# 1The graph of the mean of ( 'calories' and 'potass’) by 'mrf ‘.\n",
    "\n",
    "Graph1 = pd.pivot_table(df,index=['mfr'], values =['calories', 'potass'], aggfunc=np.mean)\n",
    "Graph1 = Graph1.reset_index()\n",
    "\n",
    "Graph1.plot(x= 'mfr', y=[\"calories\", \"potass\"], kind=\"barh\", color=['b', 'r'])\n",
    "\n",
    "plt.title(\"calories and potass mean  by 'mrf\")"
   ]
  },
  {
   "cell_type": "code",
   "execution_count": null,
   "metadata": {},
   "outputs": [],
   "source": []
  },
  {
   "cell_type": "code",
   "execution_count": 35,
   "metadata": {},
   "outputs": [
    {
     "data": {
      "text/plain": [
       "Index(['name', 'mfr', 'type', 'calories', 'protein', 'fat', 'sodium', 'fiber',\n",
       "       'carbo', 'sugars', 'potass', 'vitamins', 'shelf', 'weight', 'cups',\n",
       "       'rating'],\n",
       "      dtype='object')"
      ]
     },
     "execution_count": 35,
     "metadata": {},
     "output_type": "execute_result"
    }
   ],
   "source": [
    "df.columns"
   ]
  },
  {
   "cell_type": "code",
   "execution_count": 36,
   "metadata": {},
   "outputs": [
    {
     "data": {
      "text/html": [
       "<div>\n",
       "<style scoped>\n",
       "    .dataframe tbody tr th:only-of-type {\n",
       "        vertical-align: middle;\n",
       "    }\n",
       "\n",
       "    .dataframe tbody tr th {\n",
       "        vertical-align: top;\n",
       "    }\n",
       "\n",
       "    .dataframe thead th {\n",
       "        text-align: right;\n",
       "    }\n",
       "</style>\n",
       "<table border=\"1\" class=\"dataframe\">\n",
       "  <thead>\n",
       "    <tr style=\"text-align: right;\">\n",
       "      <th></th>\n",
       "      <th>index</th>\n",
       "      <th>mfr</th>\n",
       "      <th>calories</th>\n",
       "      <th>potass</th>\n",
       "    </tr>\n",
       "  </thead>\n",
       "  <tbody>\n",
       "    <tr>\n",
       "      <th>0</th>\n",
       "      <td>0</td>\n",
       "      <td>A</td>\n",
       "      <td>100.000000</td>\n",
       "      <td>96.092105</td>\n",
       "    </tr>\n",
       "    <tr>\n",
       "      <th>1</th>\n",
       "      <td>1</td>\n",
       "      <td>G</td>\n",
       "      <td>112.307692</td>\n",
       "      <td>90.000000</td>\n",
       "    </tr>\n",
       "    <tr>\n",
       "      <th>2</th>\n",
       "      <td>2</td>\n",
       "      <td>K</td>\n",
       "      <td>106.842105</td>\n",
       "      <td>100.263158</td>\n",
       "    </tr>\n",
       "    <tr>\n",
       "      <th>3</th>\n",
       "      <td>3</td>\n",
       "      <td>N</td>\n",
       "      <td>86.666667</td>\n",
       "      <td>120.666667</td>\n",
       "    </tr>\n",
       "    <tr>\n",
       "      <th>4</th>\n",
       "      <td>4</td>\n",
       "      <td>P</td>\n",
       "      <td>108.888889</td>\n",
       "      <td>113.888889</td>\n",
       "    </tr>\n",
       "    <tr>\n",
       "      <th>5</th>\n",
       "      <td>5</td>\n",
       "      <td>Q</td>\n",
       "      <td>95.000000</td>\n",
       "      <td>74.375000</td>\n",
       "    </tr>\n",
       "    <tr>\n",
       "      <th>6</th>\n",
       "      <td>6</td>\n",
       "      <td>R</td>\n",
       "      <td>114.605263</td>\n",
       "      <td>89.250000</td>\n",
       "    </tr>\n",
       "  </tbody>\n",
       "</table>\n",
       "</div>"
      ],
      "text/plain": [
       "   index mfr    calories      potass\n",
       "0      0   A  100.000000   96.092105\n",
       "1      1   G  112.307692   90.000000\n",
       "2      2   K  106.842105  100.263158\n",
       "3      3   N   86.666667  120.666667\n",
       "4      4   P  108.888889  113.888889\n",
       "5      5   Q   95.000000   74.375000\n",
       "6      6   R  114.605263   89.250000"
      ]
     },
     "execution_count": 36,
     "metadata": {},
     "output_type": "execute_result"
    }
   ],
   "source": [
    "Graph1b = pd.pivot_table(df,index=['mfr'], values =['calories','potass'], aggfunc=np.mean)\n",
    "Graph1b = Graph1.reset_index()\n",
    "Graph1b"
   ]
  },
  {
   "cell_type": "code",
   "execution_count": 40,
   "metadata": {},
   "outputs": [
    {
     "data": {
      "image/png": "[encoded data removed]",
      "text/plain": [
       "<Figure size 432x288 with 1 Axes>"
      ]
     },
     "metadata": {
      "needs_background": "light"
     },
     "output_type": "display_data"
    }
   ],
   "source": [
    "# 1The graph of the mean of ( 'calories' and 'potass’) by 'mrf ‘.\n",
    "\n",
    "\n",
    "x  = Graph1b ['index']\n",
    "y1   =Graph1b['calories']\n",
    "y2   = Graph1b['potass']\n",
    "\n",
    "plt.bar([a-0.4 for a in x],  y1, width= 0.4, label = 'calories data', align='edge')\n",
    "plt.bar([a+0.4 for a in x],  y2, width= -0.4, label = 'potass data', align='edge')\n",
    "\n",
    "plt.xlabel('mfr type ')\n",
    "plt.ylabel('rate _ data ')\n",
    "plt.legend(loc='upper left')\n",
    "plt.title(' Sales data')\n",
    "\n",
    "plt.xticks(x)\n",
    "plt.grid(True, linewidth= 1, linestyle=\"--\")\n",
    "plt.title('calories and potass  data')\n",
    "plt.show()"
   ]
  },
  {
   "cell_type": "code",
   "execution_count": null,
   "metadata": {},
   "outputs": [],
   "source": []
  },
  {
   "cell_type": "code",
   "execution_count": 41,
   "metadata": {},
   "outputs": [
    {
     "data": {
      "image/png": "[encoded data removed]",
      "text/plain": [
       "<Figure size 432x288 with 1 Axes>"
      ]
     },
     "metadata": {
      "needs_background": "light"
     },
     "output_type": "display_data"
    }
   ],
   "source": [
    "#Read 'sugars' & 'calories' data and show it using a scatter plot\n",
    "\n",
    "x = df['sugars']\n",
    "y = df['calories']\n",
    "\n",
    "plt.scatter(x, y, color = 'm')\n",
    "\n",
    "\n",
    "\n",
    "plt.show()"
   ]
  },
  {
   "cell_type": "code",
   "execution_count": null,
   "metadata": {},
   "outputs": [],
   "source": []
  },
  {
   "cell_type": "code",
   "execution_count": 42,
   "metadata": {},
   "outputs": [
    {
     "data": {
      "image/png": "[encoded data removed]",
      "text/plain": [
       "<Figure size 432x288 with 1 Axes>"
      ]
     },
     "metadata": {
      "needs_background": "light"
     },
     "output_type": "display_data"
    }
   ],
   "source": [
    "#In Horizontal bar chart display the max of 'Protein ' per 'mfr'.\n",
    "Graph2 = pd.pivot_table(df,index=['mfr'], values =['protein'], aggfunc=np.max)\n",
    "Graph2 = Graph2.reset_index()\n",
    "\n",
    "x = Graph2['mfr']\n",
    "y =  Graph2['protein']\n",
    "\n",
    "plt.barh(x, y, color = 'orange')\n",
    "\n",
    "plt.show()"
   ]
  },
  {
   "cell_type": "code",
   "execution_count": null,
   "metadata": {},
   "outputs": [],
   "source": []
  },
  {
   "cell_type": "code",
   "execution_count": 44,
   "metadata": {},
   "outputs": [
    {
     "data": {
      "image/png": "[encoded data removed]",
      "text/plain": [
       "<Figure size 432x288 with 1 Axes>"
      ]
     },
     "metadata": {
      "needs_background": "light"
     },
     "output_type": "display_data"
    }
   ],
   "source": [
    "#The graph of the mean of ( 'fat', 'fiber', 'cups', 'weight') by 'type'.\n",
    "Graph3 = pd.pivot_table(df,index=['type'], values =['fat', 'fiber', 'cups', 'weight'], aggfunc=np.mean)\n",
    "Graph3 = Graph3.reset_index()\n",
    "\n",
    "Graph3.plot(x = 'type', y=['fat', 'fiber', 'cups', 'weight'], kind=\"bar\", color=['b', 'r', 'm', 'orange'])\n",
    "plt.title('Parmeters  mean  by Type')\n",
    "plt.show()"
   ]
  },
  {
   "cell_type": "code",
   "execution_count": null,
   "metadata": {},
   "outputs": [],
   "source": []
  },
  {
   "cell_type": "code",
   "execution_count": 45,
   "metadata": {},
   "outputs": [],
   "source": [
    "# In Pie chart display the maximum of 'sugars ' per 'mfr',\n",
    "# with : ( labels, startangle=120 , explode=(0.1, 0.2, 0.6, 0.1, 0.1, 0.9, 0.1), autopct='%1.2f%%')"
   ]
  },
  {
   "cell_type": "code",
   "execution_count": 46,
   "metadata": {},
   "outputs": [
    {
     "data": {
      "text/html": [
       "<div>\n",
       "<style scoped>\n",
       "    .dataframe tbody tr th:only-of-type {\n",
       "        vertical-align: middle;\n",
       "    }\n",
       "\n",
       "    .dataframe tbody tr th {\n",
       "        vertical-align: top;\n",
       "    }\n",
       "\n",
       "    .dataframe thead th {\n",
       "        text-align: right;\n",
       "    }\n",
       "</style>\n",
       "<table border=\"1\" class=\"dataframe\">\n",
       "  <thead>\n",
       "    <tr style=\"text-align: right;\">\n",
       "      <th></th>\n",
       "      <th>mfr</th>\n",
       "      <th>sugars</th>\n",
       "    </tr>\n",
       "  </thead>\n",
       "  <tbody>\n",
       "    <tr>\n",
       "      <th>0</th>\n",
       "      <td>A</td>\n",
       "      <td>3.0</td>\n",
       "    </tr>\n",
       "    <tr>\n",
       "      <th>1</th>\n",
       "      <td>G</td>\n",
       "      <td>14.0</td>\n",
       "    </tr>\n",
       "    <tr>\n",
       "      <th>2</th>\n",
       "      <td>K</td>\n",
       "      <td>15.0</td>\n",
       "    </tr>\n",
       "    <tr>\n",
       "      <th>3</th>\n",
       "      <td>N</td>\n",
       "      <td>6.0</td>\n",
       "    </tr>\n",
       "    <tr>\n",
       "      <th>4</th>\n",
       "      <td>P</td>\n",
       "      <td>15.0</td>\n",
       "    </tr>\n",
       "    <tr>\n",
       "      <th>5</th>\n",
       "      <td>Q</td>\n",
       "      <td>12.0</td>\n",
       "    </tr>\n",
       "    <tr>\n",
       "      <th>6</th>\n",
       "      <td>R</td>\n",
       "      <td>11.0</td>\n",
       "    </tr>\n",
       "  </tbody>\n",
       "</table>\n",
       "</div>"
      ],
      "text/plain": [
       "  mfr  sugars\n",
       "0   A     3.0\n",
       "1   G    14.0\n",
       "2   K    15.0\n",
       "3   N     6.0\n",
       "4   P    15.0\n",
       "5   Q    12.0\n",
       "6   R    11.0"
      ]
     },
     "execution_count": 46,
     "metadata": {},
     "output_type": "execute_result"
    }
   ],
   "source": [
    "# In Pie chart display the maximum of 'sugars ' per 'mfr',\n",
    "# with : ( labels, startangle=120 , explode=(0.1, 0.2, 0.6, 0.1, 0.1, 0.9, 0.1), autopct='%1.2f%%')\n",
    "\n",
    "Graph4 = pd.pivot_table(df,index=['mfr'], values =['sugars'], aggfunc=np.max)\n",
    "Graph4 = Graph4.reset_index()\n",
    "Graph4"
   ]
  },
  {
   "cell_type": "code",
   "execution_count": 232,
   "metadata": {},
   "outputs": [
    {
     "data": {
      "text/plain": [
       "array(['A', 'G', 'K', 'N', 'P', 'Q', 'R'], dtype=object)"
      ]
     },
     "execution_count": 232,
     "metadata": {},
     "output_type": "execute_result"
    }
   ],
   "source": [
    " Graph4.mfr.unique()"
   ]
  },
  {
   "cell_type": "code",
   "execution_count": 48,
   "metadata": {},
   "outputs": [
    {
     "data": {
      "image/png": "[encoded data removed]",
      "text/plain": [
       "<Figure size 432x288 with 1 Axes>"
      ]
     },
     "metadata": {},
     "output_type": "display_data"
    }
   ],
   "source": [
    "labels = Graph4.mfr.unique()\n",
    "\n",
    "sugars_mean = Graph4[\"sugars\"] \n",
    "\n",
    "plt.axis(\"equal\")\n",
    "\n",
    "plt.pie(sugars_mean, labels=labels , startangle=360 , explode=(0.1, 0.1, 0.1, 0.7, 0.1, 0.1, 0.1), \n",
    "                                     shadow=True, autopct='%1.1f%%' )\n",
    "plt.legend(loc='lower right')\n",
    "plt.title('Sales data')\n",
    "plt.show()"
   ]
  },
  {
   "cell_type": "code",
   "execution_count": null,
   "metadata": {},
   "outputs": [],
   "source": []
  },
  {
   "cell_type": "code",
   "execution_count": 49,
   "metadata": {},
   "outputs": [],
   "source": [
    "#Read the maximum of 'sugars ' of each ‘mfr and show it using the histogram to\n",
    "#see most common profit ranges. Sugars range = [0, 50, 100, 150, 200, 250, 300, 350, 400]"
   ]
  },
  {
   "cell_type": "code",
   "execution_count": 50,
   "metadata": {},
   "outputs": [
    {
     "data": {
      "text/html": [
       "<div>\n",
       "<style scoped>\n",
       "    .dataframe tbody tr th:only-of-type {\n",
       "        vertical-align: middle;\n",
       "    }\n",
       "\n",
       "    .dataframe tbody tr th {\n",
       "        vertical-align: top;\n",
       "    }\n",
       "\n",
       "    .dataframe thead th {\n",
       "        text-align: right;\n",
       "    }\n",
       "</style>\n",
       "<table border=\"1\" class=\"dataframe\">\n",
       "  <thead>\n",
       "    <tr style=\"text-align: right;\">\n",
       "      <th></th>\n",
       "      <th>mfr</th>\n",
       "      <th>sugars</th>\n",
       "    </tr>\n",
       "  </thead>\n",
       "  <tbody>\n",
       "    <tr>\n",
       "      <th>0</th>\n",
       "      <td>A</td>\n",
       "      <td>3.0</td>\n",
       "    </tr>\n",
       "    <tr>\n",
       "      <th>1</th>\n",
       "      <td>G</td>\n",
       "      <td>14.0</td>\n",
       "    </tr>\n",
       "    <tr>\n",
       "      <th>2</th>\n",
       "      <td>K</td>\n",
       "      <td>15.0</td>\n",
       "    </tr>\n",
       "    <tr>\n",
       "      <th>3</th>\n",
       "      <td>N</td>\n",
       "      <td>6.0</td>\n",
       "    </tr>\n",
       "    <tr>\n",
       "      <th>4</th>\n",
       "      <td>P</td>\n",
       "      <td>15.0</td>\n",
       "    </tr>\n",
       "    <tr>\n",
       "      <th>5</th>\n",
       "      <td>Q</td>\n",
       "      <td>12.0</td>\n",
       "    </tr>\n",
       "    <tr>\n",
       "      <th>6</th>\n",
       "      <td>R</td>\n",
       "      <td>11.0</td>\n",
       "    </tr>\n",
       "  </tbody>\n",
       "</table>\n",
       "</div>"
      ],
      "text/plain": [
       "  mfr  sugars\n",
       "0   A     3.0\n",
       "1   G    14.0\n",
       "2   K    15.0\n",
       "3   N     6.0\n",
       "4   P    15.0\n",
       "5   Q    12.0\n",
       "6   R    11.0"
      ]
     },
     "execution_count": 50,
     "metadata": {},
     "output_type": "execute_result"
    }
   ],
   "source": [
    "#Read the maximum of 'sugars ' of each ‘mfr and show it using the histogram to\n",
    "#see most common profit ranges. Sugars range = [0, 50, 100, 150, 200, 250, 300, 350, 400]\n",
    "\n",
    "Graph4 = pd.pivot_table(df,index=['mfr'], values =['sugars'], aggfunc=np.max)\n",
    "Graph4 = Graph4.reset_index()\n",
    "Graph4"
   ]
  },
  {
   "cell_type": "code",
   "execution_count": 57,
   "metadata": {},
   "outputs": [
    {
     "data": {
      "image/png": "[encoded data removed]",
      "text/plain": [
       "<Figure size 432x288 with 1 Axes>"
      ]
     },
     "metadata": {
      "needs_background": "light"
     },
     "output_type": "display_data"
    }
   ],
   "source": [
    "\n",
    "sugars = df['sugars']\n",
    "\n",
    "sugars_range = [-1, 0, 2, 5,  9, 12, 14, 16, 17]\n",
    "\n",
    "plt.hist(sugars , sugars_range, label = 'Sugars data', color = 'm')\n",
    "\n",
    "\n",
    "plt.xlabel('Sugars range in mg')\n",
    "plt.ylabel('Sugars Profit in mr')\n",
    "plt.legend(loc='upper left')\n",
    "plt.xticks(sugars_range)\n",
    "plt.title('Sugars  data')\n",
    "plt.show()"
   ]
  },
  {
   "cell_type": "code",
   "execution_count": null,
   "metadata": {},
   "outputs": [],
   "source": []
  },
  {
   "cell_type": "code",
   "execution_count": null,
   "metadata": {},
   "outputs": [],
   "source": []
  },
  {
   "cell_type": "markdown",
   "metadata": {},
   "source": [
    "The Global Nutrition Index = Positive Nutrition / Negative Nutrition\n",
    "Positive Nutrition Index = ('calories' + 'protein' + 'vitamins')\n",
    "Negative Nutrition Index = ( 1+ 'sodium' + 'sugars' +'fat' )"
   ]
  },
  {
   "cell_type": "code",
   "execution_count": 58,
   "metadata": {},
   "outputs": [],
   "source": [
    "#Positive Nutrition  Index\n",
    "Posi_Nut = df['calories'] + df['protein']+ df['vitamins']\n",
    "\n",
    " # Negative Nutrition \n",
    "Nega_Nut  = 1+ df['sodium'] + df['sugars']+ df['fat']\n"
   ]
  },
  {
   "cell_type": "code",
   "execution_count": 59,
   "metadata": {},
   "outputs": [],
   "source": [
    "#The Global Nutrition Index = Positive Nutrition / Negative Nutrition\n",
    "\n",
    "df['Glob_Nut'] = Posi_Nut / Nega_Nut"
   ]
  },
  {
   "cell_type": "markdown",
   "metadata": {},
   "source": [
    "1) Nutrition Category = ( 1 , 2 or 3 )\n",
    "= 1, if the Global Nutrition Index > 2\n",
    "= 2, if the Global Nutrition Index < 2 & > 0,5\n",
    "= 3, if the Global Nutrition Index < 0,5"
   ]
  },
  {
   "cell_type": "code",
   "execution_count": 60,
   "metadata": {},
   "outputs": [],
   "source": [
    "df.loc[(df['Glob_Nut'] <= 0.5) , 'Category'] = 'Cat1'\n",
    "\n",
    "df.loc[(df['Glob_Nut'] > 0.5) & (df['Glob_Nut']<= 2), 'Category'] = 'Cat2' \n",
    "\n",
    "df.loc[(df['Glob_Nut'] > 2) , 'Category'] = 'Cat3' "
   ]
  },
  {
   "cell_type": "code",
   "execution_count": 61,
   "metadata": {},
   "outputs": [],
   "source": [
    "# display the fraph of cereal by category"
   ]
  },
  {
   "cell_type": "code",
   "execution_count": 62,
   "metadata": {},
   "outputs": [
    {
     "data": {
      "text/plain": [
       "Text(0, 0.5, 'ereal number')"
      ]
     },
     "execution_count": 62,
     "metadata": {},
     "output_type": "execute_result"
    },
    {
     "data": {
      "image/png": "[encoded data removed]",
      "text/plain": [
       "<Figure size 576x288 with 1 Axes>"
      ]
     },
     "metadata": {
      "needs_background": "light"
     },
     "output_type": "display_data"
    }
   ],
   "source": [
    "ax = df['Category'].value_counts().plot(kind='barh',figsize=(8,4),\n",
    "title=\"Category in  each Nutrition category\")\n",
    "\n",
    "ax.set_xlabel(\"Category\")\n",
    "ax.set_ylabel(\"ereal number\")"
   ]
  },
  {
   "cell_type": "code",
   "execution_count": 68,
   "metadata": {},
   "outputs": [
    {
     "data": {
      "text/plain": [
       "Index(['name', 'mfr', 'type', 'calories', 'protein', 'fat', 'sodium', 'fiber',\n",
       "       'carbo', 'sugars', 'potass', 'vitamins', 'shelf', 'weight', 'cups',\n",
       "       'rating', 'Glob_Nut', 'Category'],\n",
       "      dtype='object')"
      ]
     },
     "execution_count": 68,
     "metadata": {},
     "output_type": "execute_result"
    }
   ],
   "source": [
    "df.columns"
   ]
  },
  {
   "cell_type": "code",
   "execution_count": 69,
   "metadata": {},
   "outputs": [
    {
     "data": {
      "text/plain": [
       "array(['R', 'K', 'G', 'N', 'Q', 'A', 'P'], dtype=object)"
      ]
     },
     "execution_count": 69,
     "metadata": {},
     "output_type": "execute_result"
    }
   ],
   "source": [
    "df.mfr.unique()"
   ]
  },
  {
   "cell_type": "code",
   "execution_count": 76,
   "metadata": {
    "scrolled": true
   },
   "outputs": [
    {
     "name": "stdout",
     "output_type": "stream",
     "text": [
      "Select Ceral_ mfr  =   R\n"
     ]
    },
    {
     "data": {
      "text/html": [
       "<div>\n",
       "<style scoped>\n",
       "    .dataframe tbody tr th:only-of-type {\n",
       "        vertical-align: middle;\n",
       "    }\n",
       "\n",
       "    .dataframe tbody tr th {\n",
       "        vertical-align: top;\n",
       "    }\n",
       "\n",
       "    .dataframe thead th {\n",
       "        text-align: right;\n",
       "    }\n",
       "</style>\n",
       "<table border=\"1\" class=\"dataframe\">\n",
       "  <thead>\n",
       "    <tr style=\"text-align: right;\">\n",
       "      <th></th>\n",
       "      <th>name</th>\n",
       "      <th>mfr</th>\n",
       "      <th>type</th>\n",
       "      <th>calories</th>\n",
       "      <th>protein</th>\n",
       "      <th>fat</th>\n",
       "      <th>sodium</th>\n",
       "      <th>fiber</th>\n",
       "      <th>carbo</th>\n",
       "      <th>sugars</th>\n",
       "      <th>potass</th>\n",
       "      <th>vitamins</th>\n",
       "      <th>shelf</th>\n",
       "      <th>weight</th>\n",
       "      <th>cups</th>\n",
       "      <th>rating</th>\n",
       "      <th>Glob_Nut</th>\n",
       "      <th>Category</th>\n",
       "    </tr>\n",
       "  </thead>\n",
       "  <tbody>\n",
       "    <tr>\n",
       "      <th>0</th>\n",
       "      <td>Corn Chex</td>\n",
       "      <td>R</td>\n",
       "      <td>C</td>\n",
       "      <td>110.0</td>\n",
       "      <td>2.0</td>\n",
       "      <td>0.0</td>\n",
       "      <td>280.0</td>\n",
       "      <td>0.0</td>\n",
       "      <td>22.0</td>\n",
       "      <td>3.0</td>\n",
       "      <td>25.0</td>\n",
       "      <td>25.0</td>\n",
       "      <td>1.0</td>\n",
       "      <td>1.000000</td>\n",
       "      <td>1.00</td>\n",
       "      <td>41.445019</td>\n",
       "      <td>0.482394</td>\n",
       "      <td>Cat1</td>\n",
       "    </tr>\n",
       "    <tr>\n",
       "      <th>20</th>\n",
       "      <td>Muesli Raisins, Dates, &amp; Almonds</td>\n",
       "      <td>R</td>\n",
       "      <td>C</td>\n",
       "      <td>150.0</td>\n",
       "      <td>4.0</td>\n",
       "      <td>3.0</td>\n",
       "      <td>95.0</td>\n",
       "      <td>3.0</td>\n",
       "      <td>16.0</td>\n",
       "      <td>11.0</td>\n",
       "      <td>170.0</td>\n",
       "      <td>25.0</td>\n",
       "      <td>3.0</td>\n",
       "      <td>1.000000</td>\n",
       "      <td>1.00</td>\n",
       "      <td>37.136863</td>\n",
       "      <td>1.627273</td>\n",
       "      <td>Cat2</td>\n",
       "    </tr>\n",
       "    <tr>\n",
       "      <th>21</th>\n",
       "      <td>Muesli Raisins, Peaches, &amp; Pecans</td>\n",
       "      <td>R</td>\n",
       "      <td>C</td>\n",
       "      <td>150.0</td>\n",
       "      <td>4.0</td>\n",
       "      <td>3.0</td>\n",
       "      <td>150.0</td>\n",
       "      <td>3.0</td>\n",
       "      <td>16.0</td>\n",
       "      <td>11.0</td>\n",
       "      <td>170.0</td>\n",
       "      <td>25.0</td>\n",
       "      <td>3.0</td>\n",
       "      <td>1.000000</td>\n",
       "      <td>1.00</td>\n",
       "      <td>34.139765</td>\n",
       "      <td>1.084848</td>\n",
       "      <td>Cat2</td>\n",
       "    </tr>\n",
       "    <tr>\n",
       "      <th>44</th>\n",
       "      <td>Wheat Chex</td>\n",
       "      <td>R</td>\n",
       "      <td>C</td>\n",
       "      <td>100.0</td>\n",
       "      <td>3.0</td>\n",
       "      <td>1.0</td>\n",
       "      <td>230.0</td>\n",
       "      <td>3.0</td>\n",
       "      <td>17.0</td>\n",
       "      <td>3.0</td>\n",
       "      <td>115.0</td>\n",
       "      <td>25.0</td>\n",
       "      <td>1.0</td>\n",
       "      <td>1.030811</td>\n",
       "      <td>0.67</td>\n",
       "      <td>49.787445</td>\n",
       "      <td>0.544681</td>\n",
       "      <td>Cat2</td>\n",
       "    </tr>\n",
       "    <tr>\n",
       "      <th>45</th>\n",
       "      <td>Bran Chex</td>\n",
       "      <td>R</td>\n",
       "      <td>C</td>\n",
       "      <td>90.0</td>\n",
       "      <td>2.0</td>\n",
       "      <td>1.0</td>\n",
       "      <td>200.0</td>\n",
       "      <td>4.0</td>\n",
       "      <td>15.0</td>\n",
       "      <td>6.0</td>\n",
       "      <td>125.0</td>\n",
       "      <td>25.0</td>\n",
       "      <td>1.0</td>\n",
       "      <td>1.030811</td>\n",
       "      <td>0.67</td>\n",
       "      <td>49.120253</td>\n",
       "      <td>0.562500</td>\n",
       "      <td>Cat2</td>\n",
       "    </tr>\n",
       "  </tbody>\n",
       "</table>\n",
       "</div>"
      ],
      "text/plain": [
       "                                 name mfr type  calories  protein  fat  \\\n",
       "0                           Corn Chex   R    C     110.0      2.0  0.0   \n",
       "20   Muesli Raisins, Dates, & Almonds   R    C     150.0      4.0  3.0   \n",
       "21  Muesli Raisins, Peaches, & Pecans   R    C     150.0      4.0  3.0   \n",
       "44                         Wheat Chex   R    C     100.0      3.0  1.0   \n",
       "45                          Bran Chex   R    C      90.0      2.0  1.0   \n",
       "\n",
       "    sodium  fiber  carbo  sugars  potass  vitamins  shelf    weight  cups  \\\n",
       "0    280.0    0.0   22.0     3.0    25.0      25.0    1.0  1.000000  1.00   \n",
       "20    95.0    3.0   16.0    11.0   170.0      25.0    3.0  1.000000  1.00   \n",
       "21   150.0    3.0   16.0    11.0   170.0      25.0    3.0  1.000000  1.00   \n",
       "44   230.0    3.0   17.0     3.0   115.0      25.0    1.0  1.030811  0.67   \n",
       "45   200.0    4.0   15.0     6.0   125.0      25.0    1.0  1.030811  0.67   \n",
       "\n",
       "       rating  Glob_Nut Category  \n",
       "0   41.445019  0.482394     Cat1  \n",
       "20  37.136863  1.627273     Cat2  \n",
       "21  34.139765  1.084848     Cat2  \n",
       "44  49.787445  0.544681     Cat2  \n",
       "45  49.120253  0.562500     Cat2  "
      ]
     },
     "execution_count": 76,
     "metadata": {},
     "output_type": "execute_result"
    }
   ],
   "source": [
    "Cereal_mfr = input(\"Select Ceral_ mfr  =   \")\n",
    "\n",
    "df_mfr = df[df[\"mfr\"]== Cereal_mfr]\n",
    "\n",
    "df_mfr.head()"
   ]
  },
  {
   "cell_type": "code",
   "execution_count": 101,
   "metadata": {},
   "outputs": [],
   "source": [
    "#Cereal_mfr = input(\"Select Ceral_ mfr  =   \")\n",
    "\n",
    "#df_mfr = df[df[\"mfr\"]== Cereal_mfr]\n",
    "\n",
    "#df_mfr.head()\n",
    "def f_mfr(mfr):\n",
    "    \n",
    "    df_mfr = df[df[\"mfr\"]== mfr]\n",
    "    #z = 2 * (x + y)\n",
    "    \n",
    "    #Positive Nutrition  Index\n",
    "    df_mfr['Posi_Nut'] = df_mfr['calories'] + df_mfr['protein']+ df_mfr['vitamins']\n",
    "\n",
    "     # Negative Nutrition \n",
    "    #Nega_Nut  = 1+ df_mfr['sodium'] + df_mfr['sugars']+ df_mfr['fat']\n",
    "\n",
    "    #The Global Nutrition Index = Positive Nutrition / Negative Nutrition\n",
    "\n",
    "    #df_mfr['Glob_Nut'] = Posi_Nut / Nega_Nut\n",
    "    \n",
    "    #max_mfr = df_mfr['Glob_Nut'].max()\n",
    "\n",
    "    z = df_mfr['Posi_Nut'].max()\n",
    "\n",
    "    return z \n",
    "\n",
    "\n",
    "\n"
   ]
  },
  {
   "cell_type": "code",
   "execution_count": 111,
   "metadata": {},
   "outputs": [
    {
     "name": "stdout",
     "output_type": "stream",
     "text": [
      "Program starts!\n",
      "A\n",
      "129.0\n"
     ]
    },
    {
     "name": "stderr",
     "output_type": "stream",
     "text": [
      "<ipython-input-101-df72a1f75552>:12: SettingWithCopyWarning: \n",
      "A value is trying to be set on a copy of a slice from a DataFrame.\n",
      "Try using .loc[row_indexer,col_indexer] = value instead\n",
      "\n",
      "See the caveats in the documentation: https://pandas.pydata.org/pandas-docs/stable/user_guide/indexing.html#returning-a-view-versus-a-copy\n",
      "  df_mfr['Posi_Nut'] = df_mfr['calories'] + df_mfr['protein']+ df_mfr['vitamins']\n"
     ]
    }
   ],
   "source": [
    "print(\"Program starts!\")\n",
    "mrf = 'P'\n",
    "res1 = f_mfr(mfr)\n",
    "\n",
    "print(mfr)\n",
    "print(res1)\n",
    "\n"
   ]
  },
  {
   "cell_type": "code",
   "execution_count": null,
   "metadata": {},
   "outputs": [],
   "source": []
  },
  {
   "cell_type": "code",
   "execution_count": null,
   "metadata": {},
   "outputs": [],
   "source": []
  }
 ],
 "metadata": {
  "kernelspec": {
   "display_name": "Python 3 (ipykernel)",
   "language": "python",
   "name": "python3"
  },
  "language_info": {
   "codemirror_mode": {
    "name": "ipython",
    "version": 3
   },
   "file_extension": ".py",
   "mimetype": "text/x-python",
   "name": "python",
   "nbconvert_exporter": "python",
   "pygments_lexer": "ipython3",
   "version": "3.9.12"
  }
 },
 "nbformat": 4,
 "nbformat_minor": 2
}
